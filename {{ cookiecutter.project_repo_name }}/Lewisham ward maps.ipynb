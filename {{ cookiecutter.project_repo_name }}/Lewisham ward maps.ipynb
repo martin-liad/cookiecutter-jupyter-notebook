{
 "cells": [
  {
   "cell_type": "code",
   "execution_count": null,
   "metadata": {},
   "outputs": [],
   "source": [
    "# An example notebook to download and visualise boundary data."
   ]
  },
  {
   "cell_type": "code",
   "execution_count": null,
   "metadata": {},
   "outputs": [],
   "source": [
    "# Basics\n",
    "import matplotlib\n",
    "%matplotlib inline\n",
    "import matplotlib.pyplot as plt\n",
    "import numpy as np\n",
    "import pandas as pd\n",
    "import seaborn as sns"
   ]
  },
  {
   "cell_type": "code",
   "execution_count": null,
   "metadata": {},
   "outputs": [],
   "source": [
    "# Web requests\n",
    "import json\n",
    "import requests"
   ]
  },
  {
   "cell_type": "code",
   "execution_count": null,
   "metadata": {},
   "outputs": [],
   "source": [
    "# Maps and geodata\n",
    "import collections\n",
    "import geopandas as gpd\n",
    "import matplotlib.patheffects\n",
    "import matplotlib_scalebar.scalebar\n",
    "import textwrap"
   ]
  },
  {
   "cell_type": "markdown",
   "metadata": {},
   "source": [
    "Data\n",
    "=="
   ]
  },
  {
   "cell_type": "markdown",
   "metadata": {},
   "source": [
    "Boundaries\n",
    "--"
   ]
  },
  {
   "cell_type": "code",
   "execution_count": null,
   "metadata": {},
   "outputs": [],
   "source": [
    "# Ward boundaries for Lewisham (May 2023), generalised to 20m\n",
    "# Source: https://geoportal.statistics.gov.uk/datasets/ons::wards-may-2023-boundaries-uk-bgc/api\n",
    "# \n",
    "# With API export options:\n",
    "# - Where LD23NM = 'Lewisham'\n",
    "# - Output Spatial Reference = 27700 (OSGB36 / British National Grid)\n",
    "\n",
    "# Fetch\n",
    "response = requests.get(\"https://services1.arcgis.com/ESMARspQHYMw9BZ9/arcgis/rest/services/WD_MAY_2023_UK_BGC/FeatureServer/0/query?where=LAD23NM%20%3D%20'LEWISHAM'&outFields=*&outSR=27700&f=json\")\n",
    "data = json.loads(response.content)\n",
    "\n",
    "# Save as JSON\n",
    "with open('data/downloaded/Lewisham_Wards_May_2023_Boundaries_UK_BGC.json', 'w') as f:\n",
    "    json.dump(data, f)\n",
    "\n",
    "print(\"Downloaded {:,.1f} kB\".format(len(response.content) / 1024))"
   ]
  },
  {
   "cell_type": "code",
   "execution_count": null,
   "metadata": {},
   "outputs": [],
   "source": [
    "# Load in GeoPandas\n",
    "wd23 = gpd.read_file('data/downloaded/Lewisham_Wards_May_2023_Boundaries_UK_BGC.json')\n",
    "print(f\"Loaded boundaries for {len(wd23)} wards\")"
   ]
  },
  {
   "cell_type": "code",
   "execution_count": null,
   "metadata": {},
   "outputs": [],
   "source": [
    "wd23.plot()"
   ]
  },
  {
   "cell_type": "markdown",
   "metadata": {},
   "source": [
    "Population estimates\n",
    "--"
   ]
  },
  {
   "cell_type": "code",
   "execution_count": null,
   "metadata": {},
   "outputs": [],
   "source": [
    "# 2021 Census: ward-level population estimates\n",
    "# Source: https://data.london.gov.uk/census/2021-ward-and-lsoa-estimates/\n",
    "\n",
    "# Fetch\n",
    "response = requests.get(\"https://data.london.gov.uk/download/2021-census-wards-demography-and-migration/b4fca9c8-30fa-4e66-858c-cbeb623fda9c/Usual%20Residents.xlsx\")\n",
    "\n",
    "# Save as XLSX\n",
    "with open('data/downloaded/London_2021_Census_by_Ward-Usual_Residents.xlsx', 'wb') as f:\n",
    "    f.write(response.content)\n",
    "    \n",
    "print(\"Downloaded {:,.1f} kB\".format(len(response.content) / 1024))"
   ]
  },
  {
   "cell_type": "code",
   "execution_count": null,
   "metadata": {},
   "outputs": [],
   "source": [
    "# Load in Pandas\n",
    "pop = pd.read_excel('data/downloaded/London_2021_Census_by_Ward-Usual_Residents.xlsx',\n",
    "                    sheet_name='2021')\n",
    "pop.sample(2)"
   ]
  },
  {
   "cell_type": "markdown",
   "metadata": {},
   "source": [
    "Maps & charts\n",
    "=="
   ]
  },
  {
   "cell_type": "markdown",
   "metadata": {},
   "source": [
    "Tools\n",
    "--"
   ]
  },
  {
   "cell_type": "code",
   "execution_count": null,
   "metadata": {},
   "outputs": [],
   "source": [
    "# Label helpers for maps\n",
    "\n",
    "# Manual label location adjustments to improve legibility.\n",
    "# Offsets are (x, y) tuples with national grid units.\n",
    "# Default offset is (0, 0).\n",
    "map_ward_label_offsets = collections.defaultdict(lambda: (0, 0), {\n",
    "    'Bellingham': (-200, 150),\n",
    "    'Brockley': (0, 40),\n",
    "    'Catford South': (-100, 0),\n",
    "    'Downham': (-200, -200),\n",
    "    'Lewisham Central': (0, -100),\n",
    "    'Sydenham': (0, -100),\n",
    "    'Telegraph Hill': (0, -100),\n",
    "})\n",
    "\n",
    "def wrap_label(text, length):\n",
    "    return \"\\n\".join(textwrap.wrap(text, length))\n",
    "\n",
    "def adjust_label_coords(ward_name, xy):\n",
    "    xy_offset = map_ward_label_offsets[ward_name]\n",
    "    return (xy[0] + xy_offset[0], xy[1] + xy_offset[1])\n",
    "\n",
    "def plot_label(text, xy, size=12, color='black', ha='center', stroke_width=2, stroke_color='white'):\n",
    "    plt.gca().annotate(text, xy=xy, ha=ha, \n",
    "                       size=size, c=color,\n",
    "                       path_effects=[\n",
    "                           matplotlib.patheffects.withStroke(\n",
    "                               linewidth=stroke_width,\n",
    "                               foreground=stroke_color)\n",
    "                       ])"
   ]
  },
  {
   "cell_type": "markdown",
   "metadata": {},
   "source": [
    "Ward map\n",
    "--"
   ]
  },
  {
   "cell_type": "code",
   "execution_count": null,
   "metadata": {
    "scrolled": false
   },
   "outputs": [],
   "source": [
    "fig, ax = plt.subplots(1, 1, figsize=(7.5, 9), facecolor='white', dpi=150)\n",
    "\n",
    "plt.title(f\"Lewisham Wards (May 2023)\", fontsize=14)\n",
    "\n",
    "# Borders\n",
    "wd23.plot(ax=ax, linewidth=1, facecolor='#88ccee', edgecolor='white')\n",
    "\n",
    "# Labels\n",
    "wd23.apply(lambda x: plot_label(wrap_label(x['WD23NM'], 15),\n",
    "                                adjust_label_coords(x['WD23NM'], x.geometry.centroid.coords[0]),\n",
    "                                size=11, color='black'), \n",
    "           axis=1)\n",
    "\n",
    "# Scale bar\n",
    "ax.add_artist(matplotlib_scalebar.scalebar.ScaleBar(1,\n",
    "    location='lower right',\n",
    "    fixed_value=1, fixed_units='km', \n",
    "    font_properties={'size': 10},\n",
    "    color='#88ccee', box_alpha=0, scale_loc='top',\n",
    "))\n",
    "\n",
    "# Remove decoration\n",
    "plt.box(False)\n",
    "plt.xticks([])\n",
    "plt.yticks([])\n",
    "\n",
    "fig.tight_layout()\n",
    "\n",
    "# Export\n",
    "plt.savefig(\"data/processed/Lewisham_Wards_May_2023.png\", dpi=150, bbox_inches='tight')"
   ]
  },
  {
   "cell_type": "markdown",
   "metadata": {},
   "source": [
    "Population distribution\n",
    "--"
   ]
  },
  {
   "cell_type": "code",
   "execution_count": null,
   "metadata": {},
   "outputs": [],
   "source": [
    "# Lewisham ward populations\n",
    "lbl_pop = pop[pop['ward code'].isin(wd23.WD23CD)].\\\n",
    "    sort_values(by='All usual residents', ascending=True).\\\n",
    "    reset_index(drop=True) # We will use the index for vertical placement\n",
    "\n",
    "# Export\n",
    "lbl_pop.to_csv('data/processed/Lewisham_Ward_Population_2021_Census.csv', index=True)\n",
    "\n",
    "lbl_pop.head(2)"
   ]
  },
  {
   "cell_type": "code",
   "execution_count": null,
   "metadata": {},
   "outputs": [],
   "source": [
    "# Display as a formatted table\n",
    "lbl_pop[['ward name', 'All usual residents']].\\\n",
    "    iloc[::-1].\\\n",
    "    rename(columns={'ward name': 'Ward'}).\\\n",
    "    set_index('Ward').\\\n",
    "    style.format('{:,}')"
   ]
  },
  {
   "cell_type": "code",
   "execution_count": null,
   "metadata": {},
   "outputs": [],
   "source": [
    "# Display as a bar chart\n",
    "fig, ax = plt.subplots(1, 1, figsize=(5, 6), facecolor='white', dpi=150)\n",
    "\n",
    "with sns.axes_style('ticks'):\n",
    "    \n",
    "    plt.title('Lewisham Population by Ward (2021 Census)')\n",
    "    \n",
    "    p = plt.barh(y=lbl_pop.index,\n",
    "                 width=lbl_pop['All usual residents'] / 1000,\n",
    "                 height=0.8,\n",
    "                 edgecolor='white', linewidth=0.5)\n",
    "    \n",
    "    plt.bar_label(p, lbl_pop['All usual residents'].astype(int).map(lambda v: '{:,.1f}'.format(v/1000)),\n",
    "                  padding=5, color='darkgray')\n",
    "\n",
    "    plt.xlabel('Usual resident population (thousands)')\n",
    "    ax.get_xaxis().set_major_formatter(matplotlib.ticker.FuncFormatter(lambda x, p: format(int(x), ',')))\n",
    "    plt.yticks(lbl_pop.index, lbl_pop['ward name'])\n",
    "\n",
    "    plt.figtext(0.5, 0, 'Source: ONS 2023 best-fit estimates', \n",
    "                va='top', ha='center', fontsize=9, color='#888888')\n",
    "\n",
    "    sns.despine()\n",
    "    fig.tight_layout()\n",
    "    \n",
    "# Export\n",
    "plt.savefig(\"data/processed/Lewisham_Ward_Population_2021_Census.png\", dpi=150, bbox_inches='tight')"
   ]
  },
  {
   "cell_type": "markdown",
   "metadata": {},
   "source": [
    "Choropleth map\n",
    "--"
   ]
  },
  {
   "cell_type": "code",
   "execution_count": null,
   "metadata": {},
   "outputs": [],
   "source": [
    "# Join boundaries with indicator data\n",
    "d = wd23.set_index('WD23CD').join(pop.set_index('ward code'))\n",
    "d.sample(2)"
   ]
  },
  {
   "cell_type": "code",
   "execution_count": null,
   "metadata": {
    "scrolled": false
   },
   "outputs": [],
   "source": [
    "# Display as choropleth map\n",
    "fig, ax = plt.subplots(1, 1, figsize=(7.5, 9), facecolor='white', dpi=150)\n",
    "\n",
    "plt.title(\"Lewisham Population by Ward (2021 Census)\", fontsize=14)\n",
    "\n",
    "# Palette\n",
    "min_cmap_idx = 0.4 # don't start with white\n",
    "blues = matplotlib.colors.ListedColormap(matplotlib.colormaps['Blues'](np.linspace(min_cmap_idx, 1, 256)))\n",
    "\n",
    "# Data\n",
    "d.plot(ax=ax, column='All usual residents',\n",
    "       legend=True,\n",
    "       cmap=blues,\n",
    "       \n",
    "       # Option 1: no segmentation\n",
    "       legend_kwds={\n",
    "           'format': '%.0f',\n",
    "           'shrink': 0.3,\n",
    "       },\n",
    "       \n",
    "#        # Option 2: with segmentation\n",
    "#        # mapclassify parameters for breaks\n",
    "#        # See https://pysal.org/mapclassify/api.html\n",
    "#        scheme='NaturalBreaks',\n",
    "#        classification_kwds={'k': 4},\n",
    "#        legend_kwds={\n",
    "#            'title': 'Usual resident population',\n",
    "#            # 'labels': [...] # Manual labels\n",
    "#        },\n",
    ")\n",
    "\n",
    "# Borders\n",
    "wd23.plot(ax=ax, linewidth=1, facecolor='none', edgecolor='white')\n",
    "\n",
    "# Labels\n",
    "d.apply(lambda x: plot_label('{:,}'.format(x['All usual residents']),\n",
    "                                adjust_label_coords(x['WD23NM'], x.geometry.centroid.coords[0]),\n",
    "                                size=9, color='black'), \n",
    "           axis=1)\n",
    "\n",
    "# Scale bar\n",
    "ax.add_artist(matplotlib_scalebar.scalebar.ScaleBar(1,\n",
    "    location='lower right',\n",
    "    fixed_value=1, fixed_units='km', \n",
    "    font_properties={'size': 10},\n",
    "    color='#666666', box_alpha=0, scale_loc='top',\n",
    "))\n",
    "\n",
    "# Credits\n",
    "plt.figtext(0.4, 0.15, 'Source: ONS 2023 best-fit estimates', \n",
    "            va='top', ha='center', fontsize=10, color='#888888')\n",
    "\n",
    "# Remove decoration\n",
    "plt.box(False)\n",
    "plt.xticks([])\n",
    "plt.yticks([])\n",
    "\n",
    "fig.tight_layout()\n",
    "\n",
    "# Export\n",
    "plt.savefig(\"data/processed/Lewisham_Ward_Population_2021_Census_Map.png\", dpi=150, bbox_inches='tight')"
   ]
  },
  {
   "cell_type": "code",
   "execution_count": null,
   "metadata": {},
   "outputs": [],
   "source": []
  }
 ],
 "metadata": {
  "kernelspec": {
   "display_name": "Python 3 ({{cookiecutter.project_repo_name}})",
   "language": "python",
   "name": "{{cookiecutter.project_repo_name}}"
  },
  "language_info": {
   "codemirror_mode": {
    "name": "ipython",
    "version": 3
   },
   "file_extension": ".py",
   "mimetype": "text/x-python",
   "name": "python",
   "nbconvert_exporter": "python",
   "pygments_lexer": "ipython3",
   "version": "3.9.13"
  }
 },
 "nbformat": 4,
 "nbformat_minor": 4
}
